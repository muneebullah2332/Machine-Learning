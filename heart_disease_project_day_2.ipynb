# Title: Heart Disease Prediction - Histogram Analysis

## Adding Histograms for Numerical Columns

### Import Libraries
import pandas as pd
import seaborn as sns
import matplotlib.pyplot as plt

### Load the Dataset
df = pd.read_csv('heart_disease_uci.csv')

### Identify Numerical Columns
numerical_columns = df.select_dtypes(include=['int64', 'float64']).columns.tolist()

### Create Histograms with Mean and Median Annotations
for column in numerical_columns:
    plt.figure(figsize=(10, 6))
    sns.histplot(df[column], kde=True)
    
    # Calculate mean and median
    mean_value = df[column].mean()
    median_value = df[column].median()
    
    # Add vertical lines for mean and median
    plt.axvline(mean_value, color='blue', label='Mean', linestyle='--')
    plt.axvline(median_value, color='red', label='Median', linestyle='--')
    
    # Add labels and title
    plt.title(f'Histogram of {column}')
    plt.xlabel(column)
    plt.ylabel('Frequency')
    plt.legend()
    
    # Show the plot
    plt.show()
    
    # Optionally save the plot
    plt.savefig(f'./outputs/histogram_{column}.png', dpi=300)
